{
 "cells": [
  {
   "cell_type": "code",
   "execution_count": 1,
   "metadata": {},
   "outputs": [],
   "source": [
    "import numpy as np\n",
    "import pandas as pd\n",
    "import matplotlib.pyplot as plt\n",
    "import seaborn as sns\n",
    "\n",
    "from sklearn.impute import KNNImputer\n",
    "from sklearn.preprocessing import LabelEncoder\n",
    "from sklearn.model_selection import KFold\n",
    "from sklearn.ensemble import RandomForestClassifier, GradientBoostingClassifier\n",
    "from sklearn.svm import SVC\n",
    "from sklearn.neighbors import KNeighborsClassifier\n",
    "from sklearn.tree import DecisionTreeClassifier\n",
    "from sklearn.metrics import accuracy_score, precision_score, recall_score, f1_score, confusion_matrix"
   ]
  },
  {
   "cell_type": "code",
   "execution_count": 2,
   "metadata": {},
   "outputs": [],
   "source": [
    "# On a un dataset en 3 .csv, qui n'ont pas le même nombre de colonnes ni le même nom de colonnes.\n",
    "# On veut les concaténer en un seul .csv\n",
    "\n",
    "df18 = pd.read_csv('Data_2018.csv')\n",
    "df19 = pd.read_csv('Data_2019.csv')\n",
    "df20 = pd.read_csv('Data_2020.csv')"
   ]
  },
  {
   "cell_type": "code",
   "execution_count": 3,
   "metadata": {},
   "outputs": [],
   "source": [
    "# df18.columns\n",
    "# ['sno', 'district', 'mandal', 'village', 'lat_gis', 'long_gis', 'gwl',\n",
    "#        'season', 'pH', 'E.C', 'TDS', 'CO3', 'HCO3', 'Cl', 'F', 'NO3 ', 'SO4',\n",
    "#        'Na', 'K', 'Ca', 'Mg', 'T.H', 'SAR', 'Classification', 'RSC  meq  / L',\n",
    "#        'Classification.1']\n",
    "\n",
    "# df19.columns\n",
    "# ['sno', 'district', 'mandal', 'village', 'lat_gis', 'long_gis', 'gwl',\n",
    "#        'season', 'pH', 'EC', 'TDS', 'CO_-2 ', 'HCO_ - ', 'Cl -', 'F -',\n",
    "#        'NO3- ', 'SO4-2', 'Na+', 'K+', 'Ca+2', 'Mg+2', 'T.H', 'SAR',\n",
    "#        'Classification', 'RSC  meq  / L', 'Classification.1']\n",
    "\n",
    "# df20.columns\n",
    "# ['sno', 'district', 'mandal', 'village', 'lat_gis', 'long_gis', 'gwl',\n",
    "#        'season', 'Unnamed: 8', 'pH', 'E.C', 'TDS', 'CO3', 'HCO3', 'Cl', 'F',\n",
    "#        'NO3 ', 'SO4', 'Na', 'K', 'Ca', 'Mg', 'T.H', 'SAR', 'Classification',\n",
    "#        'RSC  meq  / L', 'Classification.1']"
   ]
  },
  {
   "cell_type": "code",
   "execution_count": 4,
   "metadata": {},
   "outputs": [],
   "source": [
    "# df20 a une colonne de plus que df18 et df19.\n",
    "\n",
    "# df20['Unnamed: 8'].unique()\n",
    "\n",
    "# ce ne sont que des NaN, on peut donc la supprimer\n",
    "df20.drop(columns=['Unnamed: 8'], inplace=True)"
   ]
  },
  {
   "cell_type": "code",
   "execution_count": 5,
   "metadata": {},
   "outputs": [],
   "source": [
    "# changer le nom des colonnes de df19 et df20 pour qu'ils soit identiques à df18\n",
    "\n",
    "df19 = df19.rename(columns=dict(zip(df19.columns, df18.columns)))\n",
    "df20 = df20.rename(columns=dict(zip(df20.columns, df18.columns)))\n",
    "\n",
    "# vérifier que les colonnes sont identiques\n",
    "for i in df18.columns:\n",
    "    if i not in df19.columns:\n",
    "        print(i)\n",
    "    if i not in df20.columns:\n",
    "        print(i)"
   ]
  },
  {
   "cell_type": "code",
   "execution_count": 6,
   "metadata": {},
   "outputs": [
    {
     "data": {
      "text/plain": [
       "(1106, 26)"
      ]
     },
     "execution_count": 6,
     "metadata": {},
     "output_type": "execute_result"
    }
   ],
   "source": [
    "# On peut concaténer les 3 dataframes en un seul\n",
    "df_concat = pd.concat([df18, df19, df20], ignore_index=True)\n",
    "\n",
    "df = df_concat.copy()\n",
    "\n",
    "df.shape"
   ]
  },
  {
   "cell_type": "code",
   "execution_count": 7,
   "metadata": {},
   "outputs": [
    {
     "data": {
      "text/plain": [
       "sno                   0\n",
       "district              0\n",
       "mandal                0\n",
       "village               0\n",
       "lat_gis               0\n",
       "long_gis              0\n",
       "gwl                  11\n",
       "season                0\n",
       "pH                    0\n",
       "E.C                   0\n",
       "TDS                   0\n",
       "CO3                 160\n",
       "HCO3                  0\n",
       "Cl                    0\n",
       "F                     0\n",
       "NO3                   0\n",
       "SO4                   0\n",
       "Na                    0\n",
       "K                     0\n",
       "Ca                    0\n",
       "Mg                    0\n",
       "T.H                   0\n",
       "SAR                   0\n",
       "Classification        0\n",
       "RSC  meq  / L         0\n",
       "Classification.1      0\n",
       "dtype: int64"
      ]
     },
     "execution_count": 7,
     "metadata": {},
     "output_type": "execute_result"
    }
   ],
   "source": [
    "# df.shape\n",
    "# df.info()\n",
    "# df.head()\n",
    "# df.describe()\n",
    "# df.dtypes\n",
    "# df.tail()\n",
    "# df.columns\n",
    "df.isnull().sum()"
   ]
  },
  {
   "cell_type": "code",
   "execution_count": 8,
   "metadata": {},
   "outputs": [
    {
     "name": "stdout",
     "output_type": "stream",
     "text": [
      "8..05\n"
     ]
    }
   ],
   "source": [
    "# On remarque que df['pH'] apparait comme un objet, mais il s'agit surement d'une variable numérique\n",
    "\n",
    "# df['pH'].unique()\n",
    "for i in df['pH'].unique():\n",
    "    try:\n",
    "        float(i)\n",
    "    except:\n",
    "        print(i)"
   ]
  },
  {
   "cell_type": "code",
   "execution_count": 9,
   "metadata": {},
   "outputs": [
    {
     "data": {
      "text/plain": [
       "dtype('float64')"
      ]
     },
     "execution_count": 9,
     "metadata": {},
     "output_type": "execute_result"
    }
   ],
   "source": [
    "# df[df['pH'] == '8..05']\n",
    "df['pH'] = df['pH'].replace('8..05', '8.05')\n",
    "\n",
    "# Maintenant, on peut convertir la colonne en float\n",
    "# Convert the values in the 'pH' column to float and coerce non-numeric values to NaN\n",
    "df['pH'] = pd.to_numeric(df['pH'], errors='coerce')\n",
    "df['pH'].dtype"
   ]
  },
  {
   "cell_type": "code",
   "execution_count": 10,
   "metadata": {},
   "outputs": [],
   "source": [
    "# La variable cible est df[\"Classification\"]\n",
    "# il faut l'encoder\n",
    "# C2S1 le reformuler comme Moderate\n",
    "# C3S1 le reformuler comme Poor\n",
    "# C4S2 le reformuler comme Bad\n",
    "# C4S1 le reformuler comme Bad\n",
    "# C3S2 le reformuler comme Poor\n",
    "# C4S4 le reformuler comme Bad\n",
    "# C4S3 le reformuler comme Bad\n",
    "# C1S1 le reformuler comme Good\n",
    "# C3S4 le reformuler comme Bad\n",
    "# C3S3 le reformuler comme Poor\n",
    "# C2S2 le reformuler comme Moderate\n",
    "# Supprimer les lignes pour les autres targets"
   ]
  },
  {
   "cell_type": "code",
   "execution_count": 11,
   "metadata": {},
   "outputs": [
    {
     "data": {
      "text/plain": [
       "array(['C2S1', 'C3S1', 'C4S2', 'C4S1', 'C3S2', 'C4S4', 'C4S3', 'C1S1',\n",
       "       'C3S4', 'C3S3', 'C2S2', 'OG', 'O.G'], dtype=object)"
      ]
     },
     "execution_count": 11,
     "metadata": {},
     "output_type": "execute_result"
    }
   ],
   "source": [
    "df['Classification'].unique()"
   ]
  },
  {
   "cell_type": "code",
   "execution_count": 12,
   "metadata": {},
   "outputs": [
    {
     "data": {
      "text/plain": [
       "Classification\n",
       "Poor        714\n",
       "Moderate    249\n",
       "Bad         136\n",
       "Good          3\n",
       "Name: count, dtype: int64"
      ]
     },
     "execution_count": 12,
     "metadata": {},
     "output_type": "execute_result"
    }
   ],
   "source": [
    "# drop les lignes qui ont des valeurs == 'OG' ou 'O.G' dans la colonne df['Classification']\n",
    "df = df[df['Classification'] != 'OG']\n",
    "df = df[df['Classification'] != 'O.G']\n",
    "\n",
    "# changer les valeurs par les catégories Poor, Bad, Moderate, Good\n",
    "df['Classification'] = df['Classification'].replace({\n",
    "    'C2S1': 'Moderate',\n",
    "    'C3S1': 'Poor',\n",
    "    'C4S2': 'Bad',\n",
    "    'C4S1': 'Bad',\n",
    "    'C3S2': 'Poor',\n",
    "    'C4S4': 'Bad',\n",
    "    'C4S3': 'Bad',\n",
    "    'C1S1': 'Good',\n",
    "    'C3S4': 'Bad',\n",
    "    'C3S3': 'Poor',\n",
    "    'C2S2': 'Moderate'\n",
    "})\n",
    "\n",
    "df['Classification'].value_counts()"
   ]
  },
  {
   "cell_type": "code",
   "execution_count": 13,
   "metadata": {},
   "outputs": [
    {
     "data": {
      "text/plain": [
       "Classification\n",
       "3    714\n",
       "2    249\n",
       "0    136\n",
       "1      3\n",
       "Name: count, dtype: int64"
      ]
     },
     "execution_count": 13,
     "metadata": {},
     "output_type": "execute_result"
    }
   ],
   "source": [
    "le = LabelEncoder()\n",
    "df['Classification'] = le.fit_transform(df['Classification'])\n",
    "df['Classification'].value_counts()"
   ]
  },
  {
   "cell_type": "code",
   "execution_count": 14,
   "metadata": {},
   "outputs": [
    {
     "data": {
      "text/plain": [
       "Index(['Classification', 'Cl', 'TDS', 'E.C', 'Na', 'T.H', 'NO3 ', 'Mg',\n",
       "       'RSC  meq  / L', 'Ca', 'SAR'],\n",
       "      dtype='object')"
      ]
     },
     "execution_count": 14,
     "metadata": {},
     "output_type": "execute_result"
    }
   ],
   "source": [
    "# Quelles sont les variables les plus corrélées avec la variable cible ?\n",
    "df_corr_test = df.drop(['sno', 'district', 'mandal', 'season', 'village', 'Classification.1'], axis=1)\n",
    "\n",
    "# Calcul de la matrice de corrélation et affichage des 10 variables les plus corrélées avec la variable cible\n",
    "corr_matrix = df_corr_test.corr()[['Classification']]\n",
    "corr_matrix.abs().sort_values(by='Classification', ascending=False).head(11).index"
   ]
  },
  {
   "cell_type": "code",
   "execution_count": 15,
   "metadata": {},
   "outputs": [
    {
     "data": {
      "text/plain": [
       "Index(['E.C', 'TDS', 'Cl', 'NO3 ', 'Na', 'Ca', 'Mg', 'T.H', 'SAR',\n",
       "       'Classification', 'RSC  meq  / L'],\n",
       "      dtype='object')"
      ]
     },
     "execution_count": 15,
     "metadata": {},
     "output_type": "execute_result"
    }
   ],
   "source": [
    "# Drop toutes les colonnes qui ne sont pas nommée ['E.C', 'TDS', 'Cl', 'NO3 ', 'Na', 'Ca', 'Mg', 'T.H', 'SAR', 'RSC  meq  / L', 'Classification']\n",
    "df = df.drop(columns=df.columns.difference(['E.C', 'TDS', 'Cl', 'NO3 ', 'Na', 'Ca', 'Mg', 'T.H', 'SAR', 'RSC  meq  / L', 'Classification']))\n",
    "df.columns"
   ]
  },
  {
   "cell_type": "code",
   "execution_count": 16,
   "metadata": {},
   "outputs": [
    {
     "data": {
      "text/html": [
       "<div>\n",
       "<style scoped>\n",
       "    .dataframe tbody tr th:only-of-type {\n",
       "        vertical-align: middle;\n",
       "    }\n",
       "\n",
       "    .dataframe tbody tr th {\n",
       "        vertical-align: top;\n",
       "    }\n",
       "\n",
       "    .dataframe thead th {\n",
       "        text-align: right;\n",
       "    }\n",
       "</style>\n",
       "<table border=\"1\" class=\"dataframe\">\n",
       "  <thead>\n",
       "    <tr style=\"text-align: right;\">\n",
       "      <th></th>\n",
       "      <th>E.C</th>\n",
       "      <th>TDS</th>\n",
       "      <th>Cl</th>\n",
       "      <th>NO3</th>\n",
       "      <th>Na</th>\n",
       "      <th>Ca</th>\n",
       "      <th>Mg</th>\n",
       "      <th>T.H</th>\n",
       "      <th>SAR</th>\n",
       "      <th>Classification</th>\n",
       "      <th>RSC  meq  / L</th>\n",
       "    </tr>\n",
       "  </thead>\n",
       "  <tbody>\n",
       "    <tr>\n",
       "      <th>248</th>\n",
       "      <td>1778</td>\n",
       "      <td>1137.92</td>\n",
       "      <td>300</td>\n",
       "      <td>122.683300</td>\n",
       "      <td>121.990758</td>\n",
       "      <td>152.0</td>\n",
       "      <td>48.620</td>\n",
       "      <td>579.917763</td>\n",
       "      <td>2.202500</td>\n",
       "      <td>3</td>\n",
       "      <td>-5.080797</td>\n",
       "    </tr>\n",
       "    <tr>\n",
       "      <th>257</th>\n",
       "      <td>1778</td>\n",
       "      <td>1137.92</td>\n",
       "      <td>300</td>\n",
       "      <td>122.683300</td>\n",
       "      <td>121.990758</td>\n",
       "      <td>152.0</td>\n",
       "      <td>48.620</td>\n",
       "      <td>579.917763</td>\n",
       "      <td>2.202500</td>\n",
       "      <td>3</td>\n",
       "      <td>-5.080797</td>\n",
       "    </tr>\n",
       "    <tr>\n",
       "      <th>467</th>\n",
       "      <td>1414</td>\n",
       "      <td>904.96</td>\n",
       "      <td>160</td>\n",
       "      <td>73.078500</td>\n",
       "      <td>96.000000</td>\n",
       "      <td>112.0</td>\n",
       "      <td>63.206</td>\n",
       "      <td>539.893092</td>\n",
       "      <td>1.796344</td>\n",
       "      <td>3</td>\n",
       "      <td>-2.197862</td>\n",
       "    </tr>\n",
       "    <tr>\n",
       "      <th>472</th>\n",
       "      <td>1235</td>\n",
       "      <td>790.40</td>\n",
       "      <td>140</td>\n",
       "      <td>68.649500</td>\n",
       "      <td>70.500000</td>\n",
       "      <td>96.0</td>\n",
       "      <td>68.068</td>\n",
       "      <td>519.884868</td>\n",
       "      <td>1.344336</td>\n",
       "      <td>3</td>\n",
       "      <td>-3.197697</td>\n",
       "    </tr>\n",
       "    <tr>\n",
       "      <th>474</th>\n",
       "      <td>1126</td>\n",
       "      <td>720.64</td>\n",
       "      <td>130</td>\n",
       "      <td>26.574000</td>\n",
       "      <td>55.000000</td>\n",
       "      <td>96.0</td>\n",
       "      <td>53.482</td>\n",
       "      <td>459.909539</td>\n",
       "      <td>1.115061</td>\n",
       "      <td>3</td>\n",
       "      <td>-1.998191</td>\n",
       "    </tr>\n",
       "    <tr>\n",
       "      <th>476</th>\n",
       "      <td>1120</td>\n",
       "      <td>716.80</td>\n",
       "      <td>120</td>\n",
       "      <td>13.419870</td>\n",
       "      <td>118.500000</td>\n",
       "      <td>64.0</td>\n",
       "      <td>38.896</td>\n",
       "      <td>319.934211</td>\n",
       "      <td>2.880449</td>\n",
       "      <td>3</td>\n",
       "      <td>0.801316</td>\n",
       "    </tr>\n",
       "    <tr>\n",
       "      <th>612</th>\n",
       "      <td>1123</td>\n",
       "      <td>718.72</td>\n",
       "      <td>260</td>\n",
       "      <td>150.586000</td>\n",
       "      <td>120.000000</td>\n",
       "      <td>88.0</td>\n",
       "      <td>19.448</td>\n",
       "      <td>299.967105</td>\n",
       "      <td>3.012427</td>\n",
       "      <td>3</td>\n",
       "      <td>-4.799342</td>\n",
       "    </tr>\n",
       "    <tr>\n",
       "      <th>621</th>\n",
       "      <td>1123</td>\n",
       "      <td>718.72</td>\n",
       "      <td>260</td>\n",
       "      <td>150.586000</td>\n",
       "      <td>120.000000</td>\n",
       "      <td>88.0</td>\n",
       "      <td>19.448</td>\n",
       "      <td>299.967105</td>\n",
       "      <td>3.012427</td>\n",
       "      <td>3</td>\n",
       "      <td>-4.799342</td>\n",
       "    </tr>\n",
       "    <tr>\n",
       "      <th>634</th>\n",
       "      <td>1126</td>\n",
       "      <td>720.64</td>\n",
       "      <td>130</td>\n",
       "      <td>26.574000</td>\n",
       "      <td>55.000000</td>\n",
       "      <td>96.0</td>\n",
       "      <td>53.482</td>\n",
       "      <td>459.909539</td>\n",
       "      <td>1.115061</td>\n",
       "      <td>3</td>\n",
       "      <td>-1.998191</td>\n",
       "    </tr>\n",
       "    <tr>\n",
       "      <th>639</th>\n",
       "      <td>1235</td>\n",
       "      <td>790.40</td>\n",
       "      <td>140</td>\n",
       "      <td>68.649500</td>\n",
       "      <td>70.500000</td>\n",
       "      <td>96.0</td>\n",
       "      <td>68.068</td>\n",
       "      <td>519.884868</td>\n",
       "      <td>1.344336</td>\n",
       "      <td>3</td>\n",
       "      <td>-3.197697</td>\n",
       "    </tr>\n",
       "    <tr>\n",
       "      <th>641</th>\n",
       "      <td>1120</td>\n",
       "      <td>716.80</td>\n",
       "      <td>120</td>\n",
       "      <td>13.419870</td>\n",
       "      <td>118.500000</td>\n",
       "      <td>64.0</td>\n",
       "      <td>38.896</td>\n",
       "      <td>319.934211</td>\n",
       "      <td>2.880449</td>\n",
       "      <td>3</td>\n",
       "      <td>0.801316</td>\n",
       "    </tr>\n",
       "    <tr>\n",
       "      <th>645</th>\n",
       "      <td>1414</td>\n",
       "      <td>904.96</td>\n",
       "      <td>160</td>\n",
       "      <td>73.078500</td>\n",
       "      <td>96.000000</td>\n",
       "      <td>112.0</td>\n",
       "      <td>63.206</td>\n",
       "      <td>539.893092</td>\n",
       "      <td>1.796344</td>\n",
       "      <td>3</td>\n",
       "      <td>-2.197862</td>\n",
       "    </tr>\n",
       "    <tr>\n",
       "      <th>925</th>\n",
       "      <td>543</td>\n",
       "      <td>347.52</td>\n",
       "      <td>80</td>\n",
       "      <td>3.215454</td>\n",
       "      <td>52.000000</td>\n",
       "      <td>32.0</td>\n",
       "      <td>29.172</td>\n",
       "      <td>199.950658</td>\n",
       "      <td>1.598873</td>\n",
       "      <td>2</td>\n",
       "      <td>-0.399013</td>\n",
       "    </tr>\n",
       "    <tr>\n",
       "      <th>941</th>\n",
       "      <td>942</td>\n",
       "      <td>602.88</td>\n",
       "      <td>40</td>\n",
       "      <td>34.280460</td>\n",
       "      <td>45.750000</td>\n",
       "      <td>96.0</td>\n",
       "      <td>34.034</td>\n",
       "      <td>379.942434</td>\n",
       "      <td>1.020480</td>\n",
       "      <td>3</td>\n",
       "      <td>0.001151</td>\n",
       "    </tr>\n",
       "    <tr>\n",
       "      <th>947</th>\n",
       "      <td>942</td>\n",
       "      <td>602.88</td>\n",
       "      <td>40</td>\n",
       "      <td>34.280460</td>\n",
       "      <td>45.750000</td>\n",
       "      <td>96.0</td>\n",
       "      <td>34.034</td>\n",
       "      <td>379.942434</td>\n",
       "      <td>1.020480</td>\n",
       "      <td>3</td>\n",
       "      <td>0.001151</td>\n",
       "    </tr>\n",
       "    <tr>\n",
       "      <th>949</th>\n",
       "      <td>543</td>\n",
       "      <td>347.52</td>\n",
       "      <td>80</td>\n",
       "      <td>3.215454</td>\n",
       "      <td>52.000000</td>\n",
       "      <td>32.0</td>\n",
       "      <td>29.172</td>\n",
       "      <td>199.950658</td>\n",
       "      <td>1.598873</td>\n",
       "      <td>2</td>\n",
       "      <td>-0.399013</td>\n",
       "    </tr>\n",
       "  </tbody>\n",
       "</table>\n",
       "</div>"
      ],
      "text/plain": [
       "      E.C      TDS   Cl        NO3           Na     Ca      Mg         T.H  \\\n",
       "248  1778  1137.92  300  122.683300  121.990758  152.0  48.620  579.917763   \n",
       "257  1778  1137.92  300  122.683300  121.990758  152.0  48.620  579.917763   \n",
       "467  1414   904.96  160   73.078500   96.000000  112.0  63.206  539.893092   \n",
       "472  1235   790.40  140   68.649500   70.500000   96.0  68.068  519.884868   \n",
       "474  1126   720.64  130   26.574000   55.000000   96.0  53.482  459.909539   \n",
       "476  1120   716.80  120   13.419870  118.500000   64.0  38.896  319.934211   \n",
       "612  1123   718.72  260  150.586000  120.000000   88.0  19.448  299.967105   \n",
       "621  1123   718.72  260  150.586000  120.000000   88.0  19.448  299.967105   \n",
       "634  1126   720.64  130   26.574000   55.000000   96.0  53.482  459.909539   \n",
       "639  1235   790.40  140   68.649500   70.500000   96.0  68.068  519.884868   \n",
       "641  1120   716.80  120   13.419870  118.500000   64.0  38.896  319.934211   \n",
       "645  1414   904.96  160   73.078500   96.000000  112.0  63.206  539.893092   \n",
       "925   543   347.52   80    3.215454   52.000000   32.0  29.172  199.950658   \n",
       "941   942   602.88   40   34.280460   45.750000   96.0  34.034  379.942434   \n",
       "947   942   602.88   40   34.280460   45.750000   96.0  34.034  379.942434   \n",
       "949   543   347.52   80    3.215454   52.000000   32.0  29.172  199.950658   \n",
       "\n",
       "          SAR  Classification  RSC  meq  / L  \n",
       "248  2.202500               3      -5.080797  \n",
       "257  2.202500               3      -5.080797  \n",
       "467  1.796344               3      -2.197862  \n",
       "472  1.344336               3      -3.197697  \n",
       "474  1.115061               3      -1.998191  \n",
       "476  2.880449               3       0.801316  \n",
       "612  3.012427               3      -4.799342  \n",
       "621  3.012427               3      -4.799342  \n",
       "634  1.115061               3      -1.998191  \n",
       "639  1.344336               3      -3.197697  \n",
       "641  2.880449               3       0.801316  \n",
       "645  1.796344               3      -2.197862  \n",
       "925  1.598873               2      -0.399013  \n",
       "941  1.020480               3       0.001151  \n",
       "947  1.020480               3       0.001151  \n",
       "949  1.598873               2      -0.399013  "
      ]
     },
     "execution_count": 16,
     "metadata": {},
     "output_type": "execute_result"
    }
   ],
   "source": [
    "# Selectionne les lignes dupliquées\n",
    "duplicated = df[df.duplicated(keep=False)]\n",
    "duplicated"
   ]
  },
  {
   "cell_type": "code",
   "execution_count": 17,
   "metadata": {},
   "outputs": [],
   "source": [
    "# drop the duplicates from df\n",
    "df = df.drop_duplicates()"
   ]
  },
  {
   "cell_type": "code",
   "execution_count": 18,
   "metadata": {},
   "outputs": [
    {
     "data": {
      "image/png": "[encoded data removed]",
      "text/plain": [
       "<Figure size 400x200 with 1 Axes>"
      ]
     },
     "metadata": {},
     "output_type": "display_data"
    },
    {
     "data": {
      "image/png": "[encoded data removed]",
      "text/plain": [
       "<Figure size 400x200 with 1 Axes>"
      ]
     },
     "metadata": {},
     "output_type": "display_data"
    },
    {
     "data": {
      "image/png": "[encoded data removed]",
      "text/plain": [
       "<Figure size 400x200 with 1 Axes>"
      ]
     },
     "metadata": {},
     "output_type": "display_data"
    },
    {
     "data": {
      "image/png": "[encoded data removed]",
      "text/plain": [
       "<Figure size 400x200 with 1 Axes>"
      ]
     },
     "metadata": {},
     "output_type": "display_data"
    },
    {
     "data": {
      "image/png": "[encoded data removed]",
      "text/plain": [
       "<Figure size 400x200 with 1 Axes>"
      ]
     },
     "metadata": {},
     "output_type": "display_data"
    },
    {
     "data": {
      "image/png": "[encoded data removed]",
      "text/plain": [
       "<Figure size 400x200 with 1 Axes>"
      ]
     },
     "metadata": {},
     "output_type": "display_data"
    },
    {
     "data": {
      "image/png": "[encoded data removed]",
      "text/plain": [
       "<Figure size 400x200 with 1 Axes>"
      ]
     },
     "metadata": {},
     "output_type": "display_data"
    },
    {
     "data": {
      "image/png": "[encoded data removed]",
      "text/plain": [
       "<Figure size 400x200 with 1 Axes>"
      ]
     },
     "metadata": {},
     "output_type": "display_data"
    },
    {
     "data": {
      "image/png": "[encoded data removed]",
      "text/plain": [
       "<Figure size 400x200 with 1 Axes>"
      ]
     },
     "metadata": {},
     "output_type": "display_data"
    },
    {
     "data": {
      "image/png": "[encoded data removed]",
      "text/plain": [
       "<Figure size 400x200 with 1 Axes>"
      ]
     },
     "metadata": {},
     "output_type": "display_data"
    },
    {
     "data": {
      "image/png": "[encoded data removed]",
      "text/plain": [
       "<Figure size 400x200 with 1 Axes>"
      ]
     },
     "metadata": {},
     "output_type": "display_data"
    }
   ],
   "source": [
    "# On peut maintenant s'occuper des valeurs abérentes.\n",
    "# On va remplacer les outliers par nan puis probablement les imputer avec KNNImputer.\n",
    "\n",
    "# Create separate boxplots for each feature\n",
    "for column in df:\n",
    "    plt.figure(figsize=(4, 2))\n",
    "    sns.boxplot(x=df[column])\n",
    "    plt.title(f'Boxplot of {column}')\n",
    "    plt.tight_layout()\n",
    "    plt.show()"
   ]
  },
  {
   "cell_type": "code",
   "execution_count": 19,
   "metadata": {},
   "outputs": [],
   "source": [
    "# J'ai cherché des outliers dans toutes les colonnes y compris 'Classification' \n",
    "# mais dans les outliers de Classification sont tous et uniquement les 136 'bad'\n",
    "# donc j'identifie les outliers dans tout df sauf la target\n",
    "\n",
    "def replace_outliers(df):\n",
    "    \"\"\"Replace outliers in df with np.nan\"\"\"\n",
    "    for col in df.columns:\n",
    "        if col != 'Classification':\n",
    "            q1, q3 = df[col].quantile([0.25, 0.75])\n",
    "            iqr = q3 - q1\n",
    "\n",
    "            upper_bound = q3 + 1.5 * iqr\n",
    "            lower_bound = q1 - 1.5 * iqr\n",
    "\n",
    "            df.loc[df[col] < lower_bound, col] = np.nan\n",
    "            df.loc[df[col] > upper_bound, col] = np.nan\n",
    "\n",
    "    return df"
   ]
  },
  {
   "cell_type": "code",
   "execution_count": 20,
   "metadata": {},
   "outputs": [
    {
     "data": {
      "text/plain": [
       "E.C               46\n",
       "TDS               46\n",
       "Cl                48\n",
       "NO3               75\n",
       "Na                64\n",
       "Ca                48\n",
       "Mg                41\n",
       "T.H               39\n",
       "SAR               66\n",
       "Classification     0\n",
       "RSC  meq  / L     87\n",
       "dtype: int64"
      ]
     },
     "execution_count": 20,
     "metadata": {},
     "output_type": "execute_result"
    }
   ],
   "source": [
    "df = replace_outliers(df)\n",
    "\n",
    "df.isna().sum()"
   ]
  },
  {
   "cell_type": "code",
   "execution_count": 21,
   "metadata": {},
   "outputs": [],
   "source": [
    "# drop les lignes qui ont des valeurs manquantes dans la colonne 'Classification'\n",
    "\n",
    "df = df.dropna(subset=['Classification'])"
   ]
  },
  {
   "cell_type": "code",
   "execution_count": 22,
   "metadata": {},
   "outputs": [],
   "source": [
    "def impute_missing_values_knn(df):\n",
    "    imputer = KNNImputer(n_neighbors=5)\n",
    "    for col in df.columns:\n",
    "        df[[col]] = imputer.fit_transform(df[[col]])\n",
    "    return df"
   ]
  },
  {
   "cell_type": "code",
   "execution_count": 23,
   "metadata": {},
   "outputs": [
    {
     "data": {
      "text/plain": [
       "E.C               0\n",
       "TDS               0\n",
       "Cl                0\n",
       "NO3               0\n",
       "Na                0\n",
       "Ca                0\n",
       "Mg                0\n",
       "T.H               0\n",
       "SAR               0\n",
       "Classification    0\n",
       "RSC  meq  / L     0\n",
       "dtype: int64"
      ]
     },
     "execution_count": 23,
     "metadata": {},
     "output_type": "execute_result"
    }
   ],
   "source": [
    "df = impute_missing_values_knn(df)\n",
    "\n",
    "df.isnull().sum()"
   ]
  },
  {
   "cell_type": "code",
   "execution_count": 24,
   "metadata": {},
   "outputs": [],
   "source": [
    "# save cleaned data to csv file\n",
    "df.to_csv('brief18-08.csv', index=False)"
   ]
  },
  {
   "cell_type": "code",
   "execution_count": 25,
   "metadata": {},
   "outputs": [],
   "source": [
    "# On peut maintenant tester différents modèles de classification supervisée de scikit-learn sur notre df\n",
    "# et utiliser différentes métriques pour évaluer la performance de ces modèles\n",
    "\n",
    "# On va tester les modèles suivants:\n",
    "# - RandomForestClassifier\n",
    "# - GradientBoostingClassifier\n",
    "# - SVC\n",
    "# - KNeighborsClassifier\n",
    "# - DecisionTreeClassifier\n",
    "\n",
    "# On va utiliser les métriques suivantes:\n",
    "# - accuracy_score\n",
    "# - precision_score\n",
    "# - recall_score\n",
    "# - f1_score\n",
    "# and the confusion matrix"
   ]
  },
  {
   "cell_type": "code",
   "execution_count": 26,
   "metadata": {},
   "outputs": [],
   "source": [
    "X = df.drop('Classification', axis=1)\n",
    "y = df['Classification']\n",
    "\n",
    "kfold = KFold(n_splits=5, shuffle=True, random_state=42)"
   ]
  },
  {
   "cell_type": "code",
   "execution_count": 27,
   "metadata": {},
   "outputs": [
    {
     "name": "stdout",
     "output_type": "stream",
     "text": [
      "========================================\n",
      "RandomForestClassifier\n",
      "========================================\n",
      "Best parameters: {'n_estimators': 200, 'max_depth': None, 'min_samples_split': 2}\n",
      "========================================\n",
      "mean accuracy: 0.9927\n",
      "mean precision: 0.9929\n",
      "mean recall: 0.9927\n",
      "mean f1 score: 0.9917\n",
      "========================================\n",
      "confusion matrix:\n",
      "[[ 29   0   0]\n",
      " [  0  52   0]\n",
      " [  0   0 138]]\n",
      "========================================\n"
     ]
    }
   ],
   "source": [
    "best_score = 0\n",
    "best_params = {}\n",
    "best_accuracy = 0\n",
    "best_precision = 0\n",
    "best_recall = 0\n",
    "best_f1_score = 0\n",
    "# RandomForestClassifier with different n_estimators, max_depth, and min_samples_split\n",
    "for n_estimators in [100, 200]:\n",
    "    for max_depth in [None, 3]:\n",
    "        for min_samples_split in [2, 5]:\n",
    "            clf = RandomForestClassifier(n_estimators=n_estimators, max_depth=max_depth, min_samples_split=min_samples_split)\n",
    "            scores = []\n",
    "            precisions = []\n",
    "            recalls = []\n",
    "            f1_scores = []\n",
    "            confusion_matrices = []\n",
    "            for train_index, test_index in kfold.split(X):\n",
    "                X_train, X_test = X.iloc[train_index], X.iloc[test_index]\n",
    "                y_train, y_test = y.iloc[train_index], y.iloc[test_index]\n",
    "                clf.fit(X_train, y_train)  # fit the classifier on the training data\n",
    "                scores.append(accuracy_score(y_test, clf.predict(X_test)))\n",
    "                precisions.append(precision_score(y_test, clf.predict(X_test), average='weighted', zero_division=1))\n",
    "                recalls.append(recall_score(y_test, clf.predict(X_test), average='weighted'))\n",
    "                f1_scores.append(f1_score(y_test, clf.predict(X_test), average='weighted'))\n",
    "                confusion_matrices.append(confusion_matrix(y_test, clf.predict(X_test)))\n",
    "            mean_score = np.mean(scores)\n",
    "            if mean_score > best_score:\n",
    "                best_score = mean_score\n",
    "                best_params = {'n_estimators': n_estimators, 'max_depth': max_depth, 'min_samples_split': min_samples_split}\n",
    "                best_confusion_matrix = confusion_matrices[np.argmax(scores)]\n",
    "                best_accuracy = np.mean(scores)\n",
    "                best_precision = np.mean(precisions)\n",
    "                best_recall = np.mean(recalls)\n",
    "                best_f1_score = np.mean(f1_scores)\n",
    "print(\"=\"*40)\n",
    "print(clf.__class__.__name__)\n",
    "print(\"=\"*40)\n",
    "print(f\"Best parameters: {best_params}\")\n",
    "print(\"=\"*40)\n",
    "print(\"mean accuracy: {:.4f}\".format(best_accuracy))\n",
    "print(\"mean precision: {:.4f}\".format(best_precision))\n",
    "print(\"mean recall: {:.4f}\".format(best_recall))\n",
    "print(\"mean f1 score: {:.4f}\".format(best_f1_score))\n",
    "print(\"=\"*40)\n",
    "print(\"confusion matrix:\")\n",
    "print(best_confusion_matrix)\n",
    "print(\"=\"*40)"
   ]
  },
  {
   "cell_type": "code",
   "execution_count": 28,
   "metadata": {},
   "outputs": [
    {
     "name": "stdout",
     "output_type": "stream",
     "text": [
      "========================================\n",
      "GradientBoostingClassifier\n",
      "========================================\n",
      "Best parameters: {'learning_rate': 0.1, 'n_estimators': 50, 'max_depth': 5}\n",
      "========================================\n",
      "mean accuracy: 0.9900\n",
      "mean precision: 0.9910\n",
      "mean recall: 0.9900\n",
      "mean f1 score: 0.9902\n",
      "========================================\n",
      "confusion matrix:\n",
      "[[ 30   0   0   0]\n",
      " [  0   1   0   0]\n",
      " [  0   0  52   0]\n",
      " [  0   0   0 135]]\n",
      "========================================\n"
     ]
    }
   ],
   "source": [
    "best_score = 0\n",
    "best_params = {}\n",
    "best_accuracy = 0\n",
    "best_precision = 0\n",
    "best_recall = 0\n",
    "best_f1_score = 0\n",
    "best_confusion_matrix = None\n",
    "# GradientBoostingClassifier with different learning_rate, n_estimators, and max_depth\n",
    "for learning_rate in [0.1, 0.5]:\n",
    "    for n_estimators in [50, 100]:\n",
    "        for max_depth in [3, 5]:\n",
    "            clf = GradientBoostingClassifier(learning_rate=learning_rate, n_estimators=n_estimators, max_depth=max_depth)\n",
    "            scores = []\n",
    "            precisions = []\n",
    "            recalls = []\n",
    "            f1_scores = []\n",
    "            confusion_matrices = []\n",
    "            for train_index, test_index in kfold.split(X):\n",
    "                X_train, X_test = X.iloc[train_index], X.iloc[test_index]\n",
    "                y_train, y_test = y.iloc[train_index], y.iloc[test_index]\n",
    "                clf.fit(X_train, y_train)  # fit the classifier on the training data\n",
    "                scores.append(accuracy_score(y_test, clf.predict(X_test)))\n",
    "                precisions.append(precision_score(y_test, clf.predict(X_test), average='weighted', zero_division=1))\n",
    "                recalls.append(recall_score(y_test, clf.predict(X_test), average='weighted', zero_division=1))\n",
    "                f1_scores.append(f1_score(y_test, clf.predict(X_test), average='weighted'))\n",
    "                confusion_matrices.append(confusion_matrix(y_test, clf.predict(X_test)))\n",
    "            mean_score = np.mean(scores)\n",
    "            if mean_score > best_score:\n",
    "                best_score = mean_score\n",
    "                best_params = {'learning_rate': learning_rate, 'n_estimators': n_estimators, 'max_depth': max_depth}\n",
    "                best_confusion_matrix = confusion_matrices[-1]\n",
    "                best_accuracy = np.mean(scores)\n",
    "                best_precision = np.mean(precisions)\n",
    "                best_recall = np.mean(recalls)\n",
    "                best_f1_score = np.mean(f1_scores)\n",
    "print(\"=\"*40)\n",
    "print(clf.__class__.__name__)\n",
    "print(\"=\"*40)\n",
    "print(f\"Best parameters: {best_params}\")\n",
    "print(\"=\"*40)\n",
    "print(\"mean accuracy: {:.4f}\".format(best_accuracy))\n",
    "print(\"mean precision: {:.4f}\".format(best_precision))\n",
    "print(\"mean recall: {:.4f}\".format(best_recall))\n",
    "print(\"mean f1 score: {:.4f}\".format(best_f1_score))\n",
    "print(\"=\"*40)\n",
    "print(\"confusion matrix:\")\n",
    "print(best_confusion_matrix)\n",
    "print(\"=\"*40)"
   ]
  },
  {
   "cell_type": "code",
   "execution_count": 29,
   "metadata": {},
   "outputs": [
    {
     "name": "stdout",
     "output_type": "stream",
     "text": [
      "========================================\n",
      "SVC\n",
      "========================================\n",
      "Best parameters: {'C': 5, 'kernel': 'poly'}\n",
      "========================================\n",
      "mean accuracy: 0.9278\n",
      "mean precision: 0.9284\n",
      "mean recall: 0.9278\n",
      "mean f1 score: 0.9203\n",
      "========================================\n",
      "confusion matrix:\n",
      "[[ 13   0   0  17]\n",
      " [  0   0   1   0]\n",
      " [  0   0  51   1]\n",
      " [  1   0   0 134]]\n",
      "========================================\n"
     ]
    }
   ],
   "source": [
    "best_score = 0\n",
    "best_params = {}\n",
    "best_accuracy = 0\n",
    "best_precision = 0\n",
    "best_recall = 0\n",
    "best_f1_score = 0\n",
    "best_confusion_matrix = None\n",
    "# SVC with different C and kernel\n",
    "for C in [1, 5]:\n",
    "    for kernel in ['linear', 'poly']:\n",
    "        clf = SVC(C=C, kernel=kernel)\n",
    "        scores = []\n",
    "        precisions = []\n",
    "        recalls = []\n",
    "        f1_scores = []\n",
    "        confusion_matrices = []\n",
    "        for train_index, test_index in kfold.split(X):\n",
    "            X_train, X_test = X.iloc[train_index], X.iloc[test_index]\n",
    "            y_train, y_test = y.iloc[train_index], y.iloc[test_index]\n",
    "            clf.fit(X_train, y_train)  # fit the classifier on the training data\n",
    "            scores.append(accuracy_score(y_test, clf.predict(X_test)))\n",
    "            precisions.append(precision_score(y_test, clf.predict(X_test), average='weighted', zero_division=1))\n",
    "            recalls.append(recall_score(y_test, clf.predict(X_test), average='weighted'))\n",
    "            f1_scores.append(f1_score(y_test, clf.predict(X_test), average='weighted'))\n",
    "            confusion_matrices.append(confusion_matrix(y_test, clf.predict(X_test)))\n",
    "        mean_score = np.mean(scores)\n",
    "        if mean_score > best_score:\n",
    "            best_score = mean_score\n",
    "            best_params = {'C': C, 'kernel': kernel}\n",
    "            best_confusion_matrix = confusion_matrices[-1]\n",
    "            best_accuracy = np.mean(scores)\n",
    "            best_precision = np.mean(precisions)\n",
    "            best_recall = np.mean(recalls)\n",
    "            best_f1_score = np.mean(f1_scores)\n",
    "print(\"=\"*40)\n",
    "print(clf.__class__.__name__)\n",
    "print(\"=\"*40)\n",
    "print(f\"Best parameters: {best_params}\")\n",
    "print(\"=\"*40)\n",
    "print(\"mean accuracy: {:.4f}\".format(best_accuracy))\n",
    "print(\"mean precision: {:.4f}\".format(best_precision))\n",
    "print(\"mean recall: {:.4f}\".format(best_recall))\n",
    "print(\"mean f1 score: {:.4f}\".format(best_f1_score))\n",
    "print(\"=\"*40)\n",
    "print(\"confusion matrix:\")\n",
    "print(best_confusion_matrix)\n",
    "print(\"=\"*40)"
   ]
  },
  {
   "cell_type": "code",
   "execution_count": 30,
   "metadata": {},
   "outputs": [
    {
     "name": "stdout",
     "output_type": "stream",
     "text": [
      "========================================\n",
      "KNeighborsClassifier\n",
      "========================================\n",
      "Best parameters: {'n_neighbors': 3, 'weights': 'uniform', 'p': 1}\n",
      "========================================\n",
      "mean accuracy: 0.9808\n",
      "mean precision: 0.9816\n",
      "mean recall: 0.9808\n",
      "mean f1 score: 0.9800\n",
      "========================================\n",
      "confusion matrix:\n",
      "[[ 28   0   0   2]\n",
      " [  0   1   0   0]\n",
      " [  0   0  52   0]\n",
      " [  0   0   0 135]]\n",
      "========================================\n"
     ]
    }
   ],
   "source": [
    "best_score = 0\n",
    "best_params = {}\n",
    "best_accuracy = 0\n",
    "best_precision = 0\n",
    "best_recall = 0\n",
    "best_f1_score = 0\n",
    "best_confusion_matrix = None\n",
    "# KNeighborsClassifier with different n_neighbors, weights, and p\n",
    "for n_neighbors in [3, 4, 5]:\n",
    "    for weights in ['uniform', 'distance']:\n",
    "        for p in [1, 2]:\n",
    "            clf = KNeighborsClassifier(n_neighbors=n_neighbors, weights=weights, p=p)\n",
    "            scores = []\n",
    "            precisions = []\n",
    "            recalls = []\n",
    "            f1_scores = []\n",
    "            confusion_matrices = []\n",
    "            for train_index, test_index in kfold.split(X):\n",
    "                X_train, X_test = X.iloc[train_index], X.iloc[test_index]\n",
    "                y_train, y_test = y.iloc[train_index], y.iloc[test_index]\n",
    "                clf.fit(X_train, y_train)  # fit the classifier on the training data\n",
    "                scores.append(accuracy_score(y_test, clf.predict(X_test)))\n",
    "                precisions.append(precision_score(y_test, clf.predict(X_test), average='weighted', zero_division=1))\n",
    "                recalls.append(recall_score(y_test, clf.predict(X_test), average='weighted'))\n",
    "                f1_scores.append(f1_score(y_test, clf.predict(X_test), average='weighted'))\n",
    "                confusion_matrices.append(confusion_matrix(y_test, clf.predict(X_test)))\n",
    "            mean_score = np.mean(scores)\n",
    "            if mean_score > best_score:\n",
    "                best_score = mean_score\n",
    "                best_params = {'n_neighbors': n_neighbors, 'weights': weights, 'p': p}\n",
    "                best_confusion_matrix = confusion_matrices[-1]\n",
    "                best_accuracy = np.mean(scores)\n",
    "                best_precision = np.mean(precisions)\n",
    "                best_recall = np.mean(recalls)\n",
    "                best_f1_score = np.mean(f1_scores)\n",
    "print(\"=\"*40)\n",
    "print(clf.__class__.__name__)\n",
    "print(\"=\"*40)\n",
    "print(f\"Best parameters: {best_params}\")\n",
    "print(\"=\"*40)\n",
    "print(\"mean accuracy: {:.4f}\".format(best_accuracy))\n",
    "print(\"mean precision: {:.4f}\".format(best_precision))\n",
    "print(\"mean recall: {:.4f}\".format(best_recall))\n",
    "print(\"mean f1 score: {:.4f}\".format(best_f1_score))\n",
    "print(\"=\"*40)\n",
    "print(\"confusion matrix:\")\n",
    "print(best_confusion_matrix)\n",
    "print(\"=\"*40)"
   ]
  },
  {
   "cell_type": "code",
   "execution_count": 31,
   "metadata": {},
   "outputs": [
    {
     "name": "stdout",
     "output_type": "stream",
     "text": [
      "========================================\n",
      "DecisionTreeClassifier\n",
      "========================================\n",
      "Best parameters: {'max_depth': 5, 'criterion': 'entropy', 'splitter': 'best'}\n",
      "========================================\n",
      "mean accuracy: 0.9790\n",
      "mean precision: 0.9801\n",
      "mean recall: 0.9790\n",
      "mean f1 score: 0.9786\n",
      "========================================\n",
      "confusion matrix:\n",
      "[[ 30   0   0   0]\n",
      " [  0   1   0   0]\n",
      " [  0   0  52   0]\n",
      " [  0   0   0 135]]\n",
      "========================================\n"
     ]
    }
   ],
   "source": [
    "best_score = 0\n",
    "best_params = {}\n",
    "best_accuracy = 0\n",
    "best_precision = 0\n",
    "best_recall = 0\n",
    "best_f1_score = 0\n",
    "best_confusion_matrix = None\n",
    "# DecisionTreeClassifier with different max_depth, criterion, and splitter\n",
    "for max_depth in [3, 5]:\n",
    "    for criterion in ['gini', 'entropy']:\n",
    "        for splitter in ['best', 'random']:\n",
    "            clf = DecisionTreeClassifier(max_depth=max_depth, criterion=criterion, splitter=splitter)\n",
    "            scores = []\n",
    "            precisions = []\n",
    "            recalls = []\n",
    "            f1_scores = []\n",
    "            confusion_matrices = []\n",
    "            for train_index, test_index in kfold.split(X):\n",
    "                X_train, X_test = X.iloc[train_index], X.iloc[test_index]\n",
    "                y_train, y_test = y.iloc[train_index], y.iloc[test_index]\n",
    "                clf.fit(X_train, y_train)  # fit the classifier on the training data\n",
    "                scores.append(accuracy_score(y_test, clf.predict(X_test)))\n",
    "                precisions.append(precision_score(y_test, clf.predict(X_test), average='weighted', zero_division=1))\n",
    "                recalls.append(recall_score(y_test, clf.predict(X_test), average='weighted', zero_division=1))\n",
    "                f1_scores.append(f1_score(y_test, clf.predict(X_test), average='weighted'))\n",
    "                confusion_matrices.append(confusion_matrix(y_test, clf.predict(X_test)))\n",
    "            mean_score = np.mean(scores)\n",
    "            if mean_score > best_score:\n",
    "                best_score = mean_score\n",
    "                best_params = {'max_depth': max_depth, 'criterion': criterion, 'splitter': splitter}\n",
    "                best_confusion_matrix = confusion_matrices[-1]\n",
    "                best_accuracy = np.mean(scores)\n",
    "                best_precision = np.mean(precisions)\n",
    "                best_recall = np.mean(recalls)\n",
    "                best_f1_score = np.mean(f1_scores)\n",
    "print(\"=\"*40)\n",
    "print(clf.__class__.__name__)\n",
    "print(\"=\"*40)\n",
    "print(f\"Best parameters: {best_params}\")\n",
    "print(\"=\"*40)\n",
    "print(\"mean accuracy: {:.4f}\".format(best_accuracy))\n",
    "print(\"mean precision: {:.4f}\".format(best_precision))\n",
    "print(\"mean recall: {:.4f}\".format(best_recall))\n",
    "print(\"mean f1 score: {:.4f}\".format(best_f1_score))\n",
    "print(\"=\"*40)\n",
    "print(\"confusion matrix:\")\n",
    "print(best_confusion_matrix)\n",
    "print(\"=\"*40)"
   ]
  },
  {
   "cell_type": "code",
   "execution_count": null,
   "metadata": {},
   "outputs": [],
   "source": [
    "# Le modèle avec les meilleurs résultat / plus rapide :"
   ]
  },
  {
   "cell_type": "code",
   "execution_count": 33,
   "metadata": {},
   "outputs": [
    {
     "name": "stdout",
     "output_type": "stream",
     "text": [
      "Mean accuracy: 0.9918\n",
      "Mean precision: 0.9920\n",
      "Mean recall: 0.9918\n",
      "Mean F1 score: 0.9908\n"
     ]
    }
   ],
   "source": [
    "# On cree un arbre de decision pour classifier les donnees\n",
    "clf = RandomForestClassifier(n_estimators=200, max_depth=None, min_samples_split=2)\n",
    "\n",
    "# On split les donnees en X et y\n",
    "X = df.drop(columns=[\"Classification\"])\n",
    "y = df[\"Classification\"]\n",
    "\n",
    "# On utilise la methode KFold pour creer 5 folds pour nos set d'entrainement et de test\n",
    "kf = KFold(n_splits=5, shuffle=True, random_state=42)\n",
    "\n",
    "# On initialise les listes qui vont contenir les evaluations de chaque fold\n",
    "accuracies = []\n",
    "precisions = []\n",
    "recalls = []\n",
    "f1_scores = []\n",
    "\n",
    "# Loop sur les 5 folds\n",
    "for train_index, test_index in kf.split(X):\n",
    "    # split les donnees en train et test pour ce fold\n",
    "    X_train, X_test = X.iloc[train_index], X.iloc[test_index]\n",
    "    y_train, y_test = y.iloc[train_index], y.iloc[test_index]\n",
    "    \n",
    "    # On entraine le classifieur sur le set d'entrainement pour ce fold\n",
    "    clf.fit(X_train, y_train)\n",
    "    \n",
    "    # On predit les donnees de test pour ce fold\n",
    "    y_pred = clf.predict(X_test)\n",
    "    \n",
    "    # On calcule les evaluations pour ce fold\n",
    "    accuracy = accuracy_score(y_test, y_pred)\n",
    "    precision = precision_score(y_test, y_pred, average='weighted', zero_division=1)\n",
    "    recall = recall_score(y_test, y_pred, average='weighted', zero_division=1)\n",
    "    f1 = f1_score(y_test, y_pred, average='weighted')\n",
    "    \n",
    "    # Et on ajoute les evaluations a nos listes\n",
    "    accuracies.append(accuracy)\n",
    "    precisions.append(precision)\n",
    "    recalls.append(recall)\n",
    "    f1_scores.append(f1)\n",
    "\n",
    "# On calcule la moyenne des evaluations sur les 5 folds\n",
    "mean_accuracy = sum(accuracies) / len(accuracies)\n",
    "mean_precision = sum(precisions) / len(precisions)\n",
    "mean_recall = sum(recalls) / len(recalls)\n",
    "mean_f1 = sum(f1_scores) / len(f1_scores)\n",
    "\n",
    "\n",
    "# On affiche les moyennes de nos evaluations\n",
    "print(\"Mean accuracy: {:.4f}\".format(mean_accuracy))\n",
    "print(\"Mean precision: {:.4f}\".format(mean_precision))\n",
    "print(\"Mean recall: {:.4f}\".format(mean_recall))\n",
    "print(\"Mean F1 score: {:.4f}\".format(mean_f1))"
   ]
  }
 ],
 "metadata": {
  "kernelspec": {
   "display_name": ".venv",
   "language": "python",
   "name": "python3"
  },
  "language_info": {
   "codemirror_mode": {
    "name": "ipython",
    "version": 3
   },
   "file_extension": ".py",
   "mimetype": "text/x-python",
   "name": "python",
   "nbconvert_exporter": "python",
   "pygments_lexer": "ipython3",
   "version": "3.10.12"
  },
  "orig_nbformat": 4
 },
 "nbformat": 4,
 "nbformat_minor": 2
}
